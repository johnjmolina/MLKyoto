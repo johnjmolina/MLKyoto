{
 "cells": [
  {
   "cell_type": "markdown",
   "metadata": {},
   "source": [
    "# \"Bayesian Parameter Estimation\"\n",
    "> \"We follow Chapters 2 and 3 of Sivia and Skilling's book to illustrate a simple Bayesian Parameter Estimation workflow\"\n",
    "\n",
    "- toc:true- branch: master- badges: true- comments: true\n",
    "- author: John J. Molina\n",
    "- categories: [Data Analysis, Parameter Estimation]"
   ]
  },
  {
   "cell_type": "code",
   "execution_count": 2,
   "metadata": {},
   "outputs": [],
   "source": [
    "import numpy as np\n",
    "import matplotlib as mpl\n",
    "import matplotlib.pyplot as plt"
   ]
  },
  {
   "cell_type": "markdown",
   "metadata": {},
   "source": [
    "#hide\n",
    "\n",
    "$\n",
    "\\renewcommand{\\vec}[1]{\\mathbf{#1}}\n",
    "\\newcommand{\\df}[1]{\\textrm{d}{#1}}\n",
    "\\newcommand{\\vdf}[1]{\\df{\\vec{#1}}}\n",
    "$"
   ]
  },
  {
   "cell_type": "markdown",
   "metadata": {},
   "source": [
    "$$\\begin{align}\n",
    "P(\\vec{X}\\lvert I) + P(\\overline{\\vec{X}}\\lvert I) &= 1 &\\textrm{(Sum Rule)}\\label{e:sum_rule}\\\\\n",
    "P(\\vec{X},\\vec{Y}\\lvert I) &= P(\\vec{X}\\lvert \\vec{Y}, I)\\times P(\\vec{Y}\\lvert I) &\\textrm{(Product Rule)}\\notag\\\\\n",
    "&=P(\\vec{Y}\\lvert\\vec{X}, I)\\times P(\\vec{X}\\lvert I) \\label{e:product_rule} \\\\\n",
    "\\end{align}$$\n",
    "\n",
    "$$\\begin{align}\n",
    "\\overbrace{P(\\vec{X} \\lvert \\vec{Y}, I)}^{\\small{\\mathrm{posterior}}} &= \\frac{\\overbrace{P(\\vec{Y}\\lvert \\vec{X},I)}^{\\small{\\mathrm{likelihood}}} \n",
    "                                          \\times\\overbrace{P(\\vec{X}\\lvert I)}^{\\small{\\mathrm{prior}}}}{\\underbrace{P(\\vec{Y}\\lvert I)}_{\\small{\\mathrm{evidence}}}}&\\textrm{(Bayes' Theorem)}\\label{e:bayes} \\\\\n",
    "P(\\vec{X}\\lvert I) &= \\int\\vdf{Y} P(\\vec{X}, \\vec{Y}\\lvert I) =\\int\\vdf{Y} P(\\vec{X}\\lvert\\vec{Y}, I)\\times P(\\vec{Y}\\lvert I) &\\textrm{(Marginalization)}\n",
    "\\label{e:marginalization}\n",
    "\\end{align}$$"
   ]
  },
  {
   "cell_type": "markdown",
   "metadata": {},
   "source": [
    "$$\\begin{align}\n",
    "P(\\textrm{Hypothesis}\\lvert \\textrm{Data}, I) &= \\frac{P(\\textrm{Data}\\lvert \\textrm{Hypothesis}, I)\\times P(\\textrm{Hypothesis}\\lvert I)}{P(\\textrm{Data}, I)}\\label{e:bayes_hypothesis}\n",
    "\\end{align}$$\n",
    "\n",
    "$$\\begin{align}\n",
    "P(\\vec{\\Theta}\\lvert \\vec{D}, I) &= \\frac{P(\\vec{D}\\lvert\\vec{\\Theta}, I) \\times P(\\vec{\\Theta}\\lvert I)}{P(\\vec{D}\\lvert I)} \\label{e:bayes_theta}\\\\\n",
    "&\\propto P(\\vec{D}\\lvert\\vec{\\Theta}, I)\\times P(\\vec{\\Theta}\\lvert I)\n",
    "\\end{align}$$"
   ]
  },
  {
   "cell_type": "markdown",
   "metadata": {},
   "source": [
    "$\\vec{D} = \\{D_k\\}_{k=1}^N$\n",
    "$$\\begin{align*}\n",
    "P(\\vec{\\Theta}\\lvert \\vec{D},I) &\\propto P(\\{D_k\\}_{k=1}^N\\lvert \\vec{\\Theta}, I)\\times P(\\vec{\\Theta}\\lvert I) \\\\\n",
    "&= P(\\{D_k\\}_{k=2}^N\\lvert D_1, \\vec{\\Theta}, I) \\times P(D_1\\lvert \\vec{\\Theta}, I)\\times P(\\vec{\\Theta}\\lvert I) \\\\\n",
    "&= P(\\{D_k\\}_{k=2}^N\\lvert \\vec{\\Theta}, I)\\times P(D_1\\lvert \\vec{\\Theta}, I)\\times P(\\vec{\\Theta}\\lvert I) \\\\ \n",
    "&= P(\\{D_k\\}_{k=3}^N\\lvert \\vec{\\Theta}, I)\\times P(D_2\\lvert \\vec{\\Theta}, I)\\times P(D_1\\lvert \\vec{\\Theta}, I) \\times P(\\vec{\\Theta}\\lvert I) \\\\\n",
    "&\\vdots \\\\\n",
    "&= \\big(\\Pi_{k=1}^N P(D_k\\lvert \\vec{\\Theta}, I)\\big) \\times P(\\vec{\\Theta}\\lvert I)\n",
    "\\end{align*}$$"
   ]
  },
  {
   "cell_type": "markdown",
   "metadata": {},
   "source": [
    "$$\\begin{align*}\n",
    "P(\\vec{\\Theta}\\lvert \\vec{D},I)&= \\big(\\Pi_{k=m+1}^{N} P(D_k\\lvert \\vec{\\Theta}, I)\\big) \\big(\\Pi_{j=1}^{m} P(D_j\\lvert\\vec{\\Theta}, I)\\big) P(\\vec{\\Theta}\\lvert I) \\\\\n",
    "&=\\big(\\Pi_{k=m+1}^{N} P(D_k\\lvert \\vec{\\Theta}, I)\\big) \\times P(\\vec{\\Theta}\\lvert \\{D_j\\}_{j=1}^m, I)\n",
    "\\end{align*}$$"
   ]
  },
  {
   "cell_type": "markdown",
   "metadata": {},
   "source": [
    "$$\\begin{align}\n",
    "L &= \\ln{P(\\vec{\\Theta}\\lvert \\vec{D}, I)} = \\ln P \\\\\n",
    "&= L\\lvert_{\\vec{\\Theta}_0} + \\vec{\\nabla}L\\lvert_{\\vec{\\Theta}_0}\\cdot(\\vec{\\Theta} - \\vec{\\Theta}_0) \n",
    "+ \\frac{1}{2} (\\vec{\\Theta}-\\vec{\\Theta}_0)^{t}\\cdot\\vec{\\nabla}\\vec{\\nabla}L\\lvert_{\\vec{\\Theta}_0}\\cdot(\\vec{\\Theta}-\\vec{\\Theta}_0) + \\mathcal{O}((\\vec{\\Theta}-\\vec{\\Theta}_0)^3) \\\\\n",
    "&\\simeq L\\lvert_{\\vec{\\Theta}_0} + \\frac{1}{2} (\\vec{\\Theta}-\\vec{\\Theta}_0)^{t}\\cdot\\vec{\\nabla}\\vec{\\nabla}L\\lvert_{\\vec{\\Theta}_0}\\cdot(\\vec{\\Theta}-\\vec{\\Theta}_0)\n",
    "\\end{align}\n",
    "$$"
   ]
  },
  {
   "cell_type": "markdown",
   "metadata": {},
   "source": [
    "$$\\begin{align}\n",
    "P(\\vec{\\Theta}\\lvert \\vec{D},I)\\propto \\exp{\\left[-\\frac{1}{2} \\left(\\vec{\\Theta}-\\vec{\\Theta}_0\\right)^t \\cdot \n",
    "\\left(-\\vec{\\nabla}\\vec{\\nabla}L\\lvert_{\\vec{\\Theta}_0}\\right)\\cdot\\left(\\vec{\\Theta}-\\vec{\\Theta}_0\\right)\\right]}\n",
    "\\end{align}$$\n",
    "\n",
    "$$\\begin{align}\n",
    "P_{\\textrm{Gaussian}}(\\vec{x}\\lvert \\vec{\\mu}, \\vec{\\Sigma}) &=\n",
    "\\frac{1}{\\sqrt{(2\\pi)^n \\det{\\vec{\\Sigma}}}} \\exp{\\left[-\\frac{1}{2}\\left(\\vec{x}-\\vec{\\mu}\\right)^t \\cdot\\vec{\\Sigma}^{-1}\\cdot\\left(\\vec{x}-\\vec{\\mu}\\right)\\right]} \\\\\n",
    "\\left\\langle\\vec{x} \\right\\rangle &= \\vec{\\mu} \\\\\n",
    "\\left\\langle(x_i - \\mu_i)(x_j - \\mu_j)\\right\\rangle &= \\Sigma_{ij}\n",
    "\\end{align}$$\n",
    "\n",
    "$$\\begin{align}\n",
    "\\vec{\\mu}&\\rightarrow \\vec{\\Theta}_0 \\\\\n",
    "\\vec{\\Sigma}&\\rightarrow (-\\vec{\\nabla}\\vec{\\nabla}L\\lvert_{\\vec{\\Theta}_0})^{-1}\n",
    "\\end{align}$$"
   ]
  }
 ],
 "metadata": {
  "kernelspec": {
   "display_name": "Python 3",
   "language": "python",
   "name": "python3"
  },
  "language_info": {
   "codemirror_mode": {
    "name": "ipython",
    "version": 3
   },
   "file_extension": ".py",
   "mimetype": "text/x-python",
   "name": "python",
   "nbconvert_exporter": "python",
   "pygments_lexer": "ipython3",
   "version": "3.7.3"
  }
 },
 "nbformat": 4,
 "nbformat_minor": 4
}
