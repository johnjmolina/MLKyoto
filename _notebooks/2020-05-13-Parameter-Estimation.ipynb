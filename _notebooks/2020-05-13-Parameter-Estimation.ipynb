{
 "cells": [
  {
   "cell_type": "markdown",
   "metadata": {},
   "source": [
    "# \"Bayesian Parameter Estimation\"\n",
    "> \"We follow Chapters 2 and 3 of Sivia and Skilling's book to illustrate a simple Bayesian Parameter Estimation workflow\"\n",
    "\n",
    "- toc:true\n",
    "- branch: master\n",
    "- badges: true\n",
    "- comments: true\n",
    "- author: John J. Molina\n",
    "- categories: [Data Analysis, Parameter Estimation]"
   ]
  },
  {
   "cell_type": "code",
   "execution_count": 1,
   "metadata": {},
   "outputs": [],
   "source": [
    "import numpy as np\n",
    "import matplotlib as mpl\n",
    "import matplotlib.pyplot as plt"
   ]
  },
  {
   "cell_type": "markdown",
   "metadata": {},
   "source": [
    "$$\\begin{align*}\n",
    "P(X\\lvert I) + P(\\overline{X}\\lvert I) &= 1 &\\textrm{(Sum Rule)}\\label{e:sum_rule}\\\\\n",
    "P(X,Y\\lvert I) &= P(X\\lvert Y, I)\\times P(Y\\lvert I) &\\textrm{(Product Rule)}\\notag\\\\\n",
    "&=P(Y\\lvert X, I)\\times P(X\\lvert I) \\label{e:product_rule} \\\\\n",
    "\\end{align*}$$\n",
    "\n",
    "$$\\begin{align*}\n",
    "\\overbrace{P(X \\lvert Y, I)}^{\\small{\\mathrm{posterior}}} &= \\frac{\\overbrace{P(Y\\lvert X,I)}^{\\small{\\mathrm{likelihood}}} \n",
    "                                          \\times\\overbrace{P(X\\lvert I)}^{\\small{\\mathrm{prior}}}}{\\underbrace{P(Y\\lvert I)}_{\\small{\\mathrm{evidence}}}}&\\textrm{(Bayes' Theorem)}\\label{e:bayes} \\\\\n",
    "P(X\\lvert I) &= \\int\\textrm{d}Y P(X, Y\\lvert I) =\\int\\textrm{d}Y P(X\\lvert Y, I)\\times P(Y\\lvert I) &\\textrm{(Marginalization)}\n",
    "\\label{e:marginalization}\n",
    "\\end{align*}$$"
   ]
  },
  {
   "cell_type": "markdown",
   "metadata": {},
   "source": [
    "$$\\begin{align*}\n",
    "P(\\textrm{Hypothesis}\\lvert \\textrm{Data}, I) &= \\frac{P(\\textrm{Data}\\lvert \\textrm{Hypothesis}, I)\\times P(\\textrm{Hypothesis}\\lvert I)}{P(\\textrm{Data}, I)}\\label{e:bayes_hypothesis}\n",
    "\\end{align*}$$\n",
    "\n",
    "$$\\begin{align*}\n",
    "P(\\Theta\\lvert D, I) &= \\frac{P(D\\lvert\\Theta, I) \\times P(\\Theta\\lvert I)}{P(D\\lvert I)} \\label{e:bayes_theta}\\\\\n",
    "&\\propto P(D\\lvert\\Theta, I)\\times P(\\Theta\\lvert I)\n",
    "\\end{align*}$$"
   ]
  },
  {
   "cell_type": "markdown",
   "metadata": {},
   "source": [
    "$D = \\{D_k\\}_{k=1}^N$\n",
    "\n",
    "$$\\begin{align*}\n",
    "P(\\Theta\\lvert D,I) &\\propto P(\\{D_k\\}_{k=1}^N\\lvert \\Theta, I)\\times P(\\Theta\\lvert I) \\\\\n",
    "&= P(\\{D_k\\}_{k=2}^N\\lvert D_1, \\Theta, I) \\times P(D_1\\lvert \\Theta, I)\\times P(\\Theta\\lvert I) \\\\\n",
    "&= P(\\{D_k\\}_{k=2}^N\\lvert \\Theta, I)\\times P(D_1\\lvert \\Theta, I)\\times P(\\Theta\\lvert I) \\\\ \n",
    "&= P(\\{D_k\\}_{k=3}^N\\lvert \\Theta, I)\\times P(D_2\\lvert \\Theta, I)\\times P(D_1\\lvert \\Theta, I) \\times P(\\Theta\\lvert I) \\\\\n",
    "&\\vdots \\\\\n",
    "&= \\left(\\Pi_{k=1}^N P(D_k\\lvert \\Theta, I)\\right) \\times P(\\Theta\\lvert I)\n",
    "\\end{align*}$$\n"
   ]
  },
  {
   "cell_type": "markdown",
   "metadata": {},
   "source": [
    "$$\\begin{align*}\n",
    "P(\\Theta\\lvert D,I)&= \\big(\\Pi_{k=m+1}^{N} P(D_k\\lvert \\Theta, I)\\big) \\big(\\Pi_{j=1}^{m} P(D_j\\lvert\\Theta, I)\\big) P(\\Theta\\lvert I) \\\\\n",
    "&=\\big(\\Pi_{k=m+1}^{N} P(D_k\\lvert \\Theta, I)\\big) \\times P(\\Theta\\lvert \\{D_j\\}_{j=1}^m, I)\n",
    "\\end{align*}$$"
   ]
  },
  {
   "cell_type": "markdown",
   "metadata": {},
   "source": [
    "$$\\begin{align*}\n",
    "L &= \\ln{P(\\Theta\\lvert D, I)} = \\ln P \\\\\n",
    "&= L\\lvert_{\\Theta_0} + \\nabla L\\lvert_{\\Theta_0}\\cdot(\\Theta - \\Theta_0) \n",
    "+ \\frac{1}{2} (\\Theta-\\Theta_0)^{t}\\cdot\\nabla\\nabla L\\lvert_{\\Theta_0}\\cdot(\\Theta-\\Theta_0) + \\mathcal{O}\\big((\\Theta-\\Theta_0)^3\\big) \\\\\n",
    "&\\simeq L\\lvert_{\\Theta_0} + \\\\\n",
    "&\\frac{1}{2} (\\Theta-\\Theta_0)^{t}\\cdot\\nabla\\nabla L\\lvert_{\\Theta_0}\\cdot(\\Theta-\\Theta_0)\n",
    "\\end{align*}$$"
   ]
  },
  {
   "cell_type": "markdown",
   "metadata": {},
   "source": [
    "$$\\begin{align*}\n",
    "P(\\Theta\\lvert D,I)\\propto \\exp{\\left[-\\frac{1}{2} \\left(\\Theta-\\Theta_0\\right)^t \\cdot \n",
    "\\left(-\\nabla\\nabla L\\lvert_{\\Theta_0}\\right)\\cdot\\left(\\Theta-\\Theta_0\\right)\\right]}\n",
    "\\end{align*}$$\n",
    "\n",
    "$$\\begin{align*}\n",
    "P_{\\textrm{Gaussian}}(X \\lvert \\mu, \\Sigma) &=\n",
    "\\frac{1}{\\sqrt{(2\\pi)^n \\det{\\Sigma}}} \\exp{\\left[-\\frac{1}{2}\\left(X-\\mu\\right)^t \\cdot \\Sigma^{-1}\\cdot\\left(X-\\mu\\right)\\right]} \\\\\n",
    "\\left\\langle X \\right\\rangle &= \\mu \\\\\n",
    "\\left\\langle(X^i - \\mu^i)(X^j - \\mu^j)\\right\\rangle &= \\Sigma^{ij}\n",
    "\\end{align*}$$\n",
    "\n",
    "$$\\begin{align*}\n",
    "\\mu&\\rightarrow \\Theta_0 \\\\\n",
    "\\Sigma&\\rightarrow (-\\nabla\\nabla L\\lvert_{\\Theta_0})^{-1}\n",
    "\\end{align*}$$"
   ]
  },
  {
   "cell_type": "code",
   "execution_count": null,
   "metadata": {},
   "outputs": [],
   "source": []
  },
  {
   "cell_type": "code",
   "execution_count": null,
   "metadata": {},
   "outputs": [],
   "source": []
  }
 ],
 "metadata": {
  "kernelspec": {
   "display_name": "Python 3",
   "language": "python",
   "name": "python3"
  },
  "language_info": {
   "codemirror_mode": {
    "name": "ipython",
    "version": 3
   },
   "file_extension": ".py",
   "mimetype": "text/x-python",
   "name": "python",
   "nbconvert_exporter": "python",
   "pygments_lexer": "ipython3",
   "version": "3.7.3"
  }
 },
 "nbformat": 4,
 "nbformat_minor": 4
}
