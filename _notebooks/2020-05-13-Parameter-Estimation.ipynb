{
 "cells": [
  {
   "cell_type": "markdown",
   "metadata": {},
   "source": [
    "# \"Bayesian Parameter Estimation\"\n",
    "> \"We follow Chapters 2 and 3 of Sivia and Skilling's book to illustrate a simple Bayesian Parameter Estimation workflow\"\n",
    "\n",
    "- toc:true\n",
    "- branch: master\n",
    "- badges: true\n",
    "- comments: true\n",
    "- author: John J. Molina\n",
    "- categories: [Data Analysis, Parameter Estimation]"
   ]
  },
  {
   "cell_type": "code",
   "execution_count": 3,
   "metadata": {},
   "outputs": [],
   "source": [
    "import numpy as np\n",
    "import matplotlib as mpl\n",
    "import matplotlib.pyplot as plt"
   ]
  },
  {
   "cell_type": "markdown",
   "metadata": {},
   "source": [
    "$$\\begin{align}\n",
    "P(X\\lvert I) + P(\\overline{X}\\lvert I) &= 1 &\\textrm{(Sum Rule)}\\label{e:sum_rule}\\\\\n",
    "P(X,Y\\lvert I) &= P(X\\lvert Y, I)\\times P(Y\\lvert I) &\\textrm{(Product Rule)}\\notag\\\\\n",
    "&=P(Y\\lvert X, I)\\times P(X\\lvert I) \\label{e:product_rule} \\\\\n",
    "\\end{align}$$\n",
    "\n",
    "$$\\begin{align*}\n",
    "\\overbrace{P(X \\lvert Y, I)}^{\\small{\\mathrm{posterior}}} &= \\frac{\\overbrace{P(Y\\lvert X,I)}^{\\small{\\mathrm{likelihood}}} \n",
    "                                          \\times\\overbrace{P(X\\lvert I)}^{\\small{\\mathrm{prior}}}}{\\underbrace{P(Y\\lvert I)}_{\\small{\\mathrm{evidence}}}}&\\textrm{(Bayes' Theorem)}\\label{e:bayes} \\\\\n",
    "P(X\\lvert I) &= \\int\\textrm{d}Y P(X, Y\\lvert I) =\\int\\textrm{d}Y P(X\\lvert Y, I)\\times P(Y\\lvert I) &\\textrm{(Marginalization)}\n",
    "\\label{e:marginalization}\n",
    "\\end{align*}$$"
   ]
  },
  {
   "cell_type": "markdown",
   "metadata": {},
   "source": [
    "$$\\begin{align*}\n",
    "P(\\textrm{Hypothesis}\\lvert \\textrm{Data}, I) &= \\frac{P(\\textrm{Data}\\lvert \\textrm{Hypothesis}, I)\\times P(\\textrm{Hypothesis}\\lvert I)}{P(\\textrm{Data}, I)}\\label{e:bayes_hypothesis}\n",
    "\\end{align*}$$\n",
    "\n",
    "$$\\begin{align*}\n",
    "P(\\Theta\\lvert D, I) &= \\frac{P(D\\lvert\\Theta, I) \\times P(\\Theta\\lvert I)}{P(D\\lvert I)} \\label{e:bayes_theta}\\\\\n",
    "&\\propto P(D\\lvert\\Theta, I)\\times P(\\Theta\\lvert I)\n",
    "\\end{align*}$$"
   ]
  },
  {
   "cell_type": "markdown",
   "metadata": {},
   "source": [
    "Assume that $D = \\{D_k\\}_{k=1}^N$"
   ]
  },
  {
   "cell_type": "markdown",
   "metadata": {},
   "source": [
    "$$\\begin{align*}\n",
    "P(\\Theta\\lvert D,I) &\\propto P(\\{D_k\\}_{k=1}^N\\lvert \\Theta, I)\\times P(\\Theta\\lvert I) \\\\\n",
    "&= P(\\{D_k\\}_{k=2}^N\\lvert D_1, \\Theta, I) \\times P(D_1\\lvert \\Theta, I)\\times P(\\Theta\\lvert I) \\\\\n",
    "&= P(\\{D_k\\}_{k=2}^N\\lvert \\Theta, I)\\times P(D_1\\lvert \\Theta, I)\\times P(\\Theta\\lvert I) \\\\ \n",
    "&= P(\\{D_k\\}_{k=3}^N\\lvert \\Theta, I)\\times P(D_2\\lvert \\Theta, I)\\times P(D_1\\lvert \\Theta, I) \\times P(\\Theta\\lvert I) \\\\\n",
    "&\\vdots \\\\\n",
    "&= \\left(\\Pi_{k=1}^N P(D_k\\lvert \\Theta, I)\\right) \\times P(\\Theta\\lvert I)\n",
    "\\end{align*}$$"
   ]
  },
  {
   "cell_type": "markdown",
   "metadata": {},
   "source": [
    "$$\\begin{align*}\n",
    "P(\\Theta\\lvert D,I)&= \\big(\\Pi_{k=m+1}^{N} P(D_k\\lvert \\Theta, I)\\big) \\big(\\Pi_{j=1}^{m} P(D_j\\lvert\\Theta, I)\\big) P(\\Theta\\lvert I) \\\\\n",
    "&=\\big(\\Pi_{k=m+1}^{N} P(D_k\\lvert \\Theta, I)\\big) \\times P(\\Theta\\lvert \\{D_j\\}_{j=1}^m, I)\n",
    "\\end{align*}$$"
   ]
  },
  {
   "cell_type": "markdown",
   "metadata": {},
   "source": [
    "# Laplace's Approximation, Best Estimates and Error Bars"
   ]
  },
  {
   "cell_type": "markdown",
   "metadata": {},
   "source": [
    "$$\\begin{align*}\n",
    "L &= \\ln{P(\\Theta\\lvert D, I)} = \\ln P \\\\\n",
    "&= L\\lvert_{\\Theta_0} + \\nabla L\\lvert_{\\Theta_0}\\cdot(\\Theta - \\Theta_0) \n",
    "+ \\frac{1}{2} (\\Theta-\\Theta_0)^{t}\\cdot\\nabla\\nabla L\\lvert_{\\Theta_0}\\cdot(\\Theta-\\Theta_0) + \\mathcal{O}\\big((\\Theta-\\Theta_0)^3\\big) \\\\\n",
    "&\\simeq L\\lvert_{\\Theta_0} + \\frac{1}{2} (\\Theta-\\Theta_0)^{t}\\cdot\\nabla\\nabla L\\lvert_{\\Theta_0}\\cdot(\\Theta-\\Theta_0)\n",
    "\\end{align*}$$"
   ]
  },
  {
   "cell_type": "markdown",
   "metadata": {},
   "source": [
    "$$\\begin{align*}\n",
    "P(\\Theta\\lvert D,I)\\propto \\exp{\\left[-\\frac{1}{2} \\left(\\Theta-\\Theta_0\\right)^t \\cdot \n",
    "\\left(-\\nabla\\nabla L\\lvert_{\\Theta_0}\\right)\\cdot\\left(\\Theta-\\Theta_0\\right)\\right]}\n",
    "\\end{align*}$$\n",
    "\n",
    "$$\\begin{align*}\n",
    "P_{\\textrm{Gaussian}}(A \\lvert \\mu, \\Sigma) &=\n",
    "\\frac{1}{\\sqrt{(2\\pi)^d \\det{\\Sigma}}} \\exp{\\left[-\\frac{1}{2}\\left(A-\\mu\\right)^t \\cdot \\Sigma^{-1}\\cdot\\left(A-\\mu\\right)\\right]} \\\\\n",
    "\\left\\langle A \\right\\rangle &= \\mu \\\\\n",
    "\\left\\langle(A^i - \\mu^i)(A^j - \\mu^j)\\right\\rangle &= \\Sigma^{ij}\n",
    "\\end{align*}$$\n",
    "\n",
    "$$\\begin{align*}\n",
    "A = \\mu\\pm \\sqrt{\\textrm{diag}({\\Sigma})}\n",
    "\\end{align*}$$\n",
    "\n",
    "$$\\begin{align*}\n",
    "\\mu&\\rightarrow \\Theta_0 \\\\\n",
    "\\Sigma&\\rightarrow (-\\nabla\\nabla L\\lvert_{\\Theta_0})^{-1}\n",
    "\\end{align*}$$"
   ]
  },
  {
   "cell_type": "markdown",
   "metadata": {},
   "source": [
    "$$\\begin{align*}\n",
    "P(\\Theta\\lvert D, I) &\\propto P(D\\lvert \\Theta, I)\\times P(\\Theta\\lvert I) \\\\\n",
    "&\\propto \\Pi_k P(y_k\\lvert \\Theta, I) \\\\\n",
    "&=\\Pi_k \\frac{1}{\\sqrt{2\\pi} \\sigma_k} \\exp{\\left[-\\frac{\\big(y_k - f(X_k; \\Theta)\\big)^2}{2\\sigma_k^2}\\right]} \\\\\n",
    "\\end{align*}$$\n",
    "\n",
    "$$\\begin{align*}\n",
    "L &= \\textrm{constant} -\\sum_k \\frac{\\left(y_k - f(X_k; \\Theta)\\right)^2}{2\\sigma_k^2} \\\\\n",
    "&= \\textrm{constant} - \\frac{1}{2}\\chi^2\n",
    "\\end{align*}$$\n",
    "\n",
    "$$\\begin{align*}\n",
    "\\nabla L = -\\frac{1}{2}\\nabla \\chi^2 = 0 \\Longrightarrow \\nabla\\chi^2 = 0\n",
    "\\end{align*}$$"
   ]
  },
  {
   "cell_type": "markdown",
   "metadata": {},
   "source": [
    "$$\\begin{align}\n",
    "\\nabla\\nabla L = -\\frac{1}{2}\\nabla\\nabla\\chi^2\n",
    "\\end{align}$$"
   ]
  },
  {
   "cell_type": "markdown",
   "metadata": {},
   "source": [
    "$$\\begin{align}\n",
    "\\Sigma = 2 \\left(\\nabla\\nabla\\chi^2\\lvert_{\\Theta_0}\\right)^{-1}\n",
    "\\end{align}$$"
   ]
  },
  {
   "cell_type": "markdown",
   "metadata": {},
   "source": [
    "$$\\begin{align}\n",
    "P(\\Theta\\lvert D, I) &=\\int\\textrm{d}\\sigma\\, P(\\Theta, \\sigma\\lvert D, I)\\\\\n",
    "&\\propto \\int\\textrm{d}\\sigma\\, P(D\\lvert \\Theta, \\sigma, I) \\times P(\\Theta, \\sigma\\lvert I)\n",
    "\\end{align}$$\n"
   ]
  },
  {
   "cell_type": "markdown",
   "metadata": {},
   "source": [
    "$$\\begin{align}\n",
    "P(\\Theta\\lvert D, I) &\\propto \\int_0^\\infty\\textrm{d}\\sigma \\left(\\Pi_k \\frac{1}{\\sqrt{2\\pi}\\sigma} \\exp{\\left[-\\frac{\\left(y_k - f(X_k; \\Theta)\\right)^2}{2\\sigma^2}\\right]}\\right) \\times \\frac{1}{\\sigma} \\\\\n",
    "&= (2\\pi)^{-N/2}\\int_0^\\infty\\frac{\\textrm{d}\\sigma}{\\sigma} \\sigma^{-N}\\exp{\\left[-\\frac{1}{2\\sigma^2}\\sum_k\\left(y_k - f(X_k; \\Theta)\\right)^2\\right]}\n",
    "\\end{align}$$"
   ]
  },
  {
   "cell_type": "markdown",
   "metadata": {},
   "source": [
    "$$\\begin{align}\n",
    "t &= \\frac{\\sum_k \\left(y_k - f(X_k; \\Theta)\\right)^2}{2 \\sigma^2}  = \\frac{S}{2\\sigma^2}\\\\\n",
    "\\frac{\\textrm{d}\\sigma}{\\sigma} &= -\\frac{\\textrm{d}t}{2t}\n",
    "\\end{align}$$"
   ]
  },
  {
   "cell_type": "markdown",
   "metadata": {},
   "source": [
    "$$\\begin{align}\n",
    "P(\\Theta\\lvert D, I) &\\propto (2\\pi)^{-N/2}\\int_0^\\infty \\frac{\\textrm{d}t}{t} \\left(\\frac{2t}{S}\\right)^{N/2} e^{-t} \\\\\n",
    "&= \\pi^{-N/2}\\underbrace{\\left(\\int_0^\\infty \\frac{\\textrm{d}t}{t} t^{N/2} e^{-t}\\right)}_{= \\Gamma(N/2)}S^{-N/2} \n",
    "\\end{align}$$"
   ]
  },
  {
   "cell_type": "markdown",
   "metadata": {},
   "source": [
    "$$\\begin{align}\n",
    "L &= \\textrm{constant} - \\frac{N}{2} \\ln{S}\n",
    "\\end{align}$$"
   ]
  },
  {
   "cell_type": "markdown",
   "metadata": {},
   "source": [
    "$$\\begin{align}\n",
    "\\nabla L &= -\\frac{N}{2} \\frac{\\nabla S}{S}= 0 \\Longrightarrow \\nabla S = 0\n",
    "\\end{align}$$"
   ]
  },
  {
   "cell_type": "markdown",
   "metadata": {},
   "source": [
    "$$\\begin{align}\n",
    "\\nabla\\nabla L &= -\\frac{N}{2}\\left[\\frac{\\nabla\\nabla S}{S} - \\frac{\\left(\\nabla S\\right)\\left(\\nabla S\\right)}{S^2}\\right]\n",
    "\\end{align}$$\n",
    "\n",
    "$$\\begin{align}\n",
    "\\nabla\\nabla L\\lvert_{\\Theta_0} &= -\\frac{N}{2} \\frac{\\nabla\\nabla S\\lvert_{\\Theta_0}}{S_0} = -\\frac{1}{2} \\left.\\nabla\\nabla\\left(\\frac{S}{S_0/N}\\right)\\right\\lvert_{\\Theta_0}\n",
    "\\end{align}$$"
   ]
  },
  {
   "cell_type": "markdown",
   "metadata": {},
   "source": [
    "$$\\begin{align}\n",
    "\\Sigma &= 2\\left(\\left.\\nabla\\nabla\\left(\\frac{S}{S_0/N}\\right)\\right\\lvert_{\\Theta_0}\\right)^{-1}\n",
    "\\end{align}$$"
   ]
  },
  {
   "cell_type": "markdown",
   "metadata": {},
   "source": [
    "$$\\begin{align}\n",
    "\\chi^2 = \\sum_k\\frac{\\left(y_k - f(X_k;\\Theta)\\right)^2}{\\sigma_k^2} &\\longrightarrow \\frac{S}{S_0/N} = \\frac{N}{S_0}\\sum_k\\left(y_k - f(X_k;\\Theta)\\right)^2 \\\\\n",
    "\\sigma_k^2 &\\longrightarrow \\frac{S_0}{N} = \\frac{1}{N}\\sum_{k}\\left(y_k - f(X_k;\\Theta_0)\\right)^2\n",
    "\\end{align}$$"
   ]
  },
  {
   "cell_type": "markdown",
   "metadata": {},
   "source": [
    "$$\\begin{align}\n",
    "P(\\sigma\\lvert D, I) &= \\int\\textrm{d}\\Theta P(\\sigma, \\Theta\\lvert D, I) \\\\\n",
    "&\\propto \\int\\textrm{d}\\Theta P(D\\lvert \\sigma, \\Theta, I) P(\\sigma, \\Theta\\lvert I)\n",
    "\\end{align}$$"
   ]
  },
  {
   "cell_type": "markdown",
   "metadata": {},
   "source": [
    "$$\\begin{align}\n",
    "P(\\sigma\\lvert D, I)\\propto \\sigma^{-(N+1)}\\int\\textrm{d}\\Theta\\exp{\\left[-\\frac{S(\\Theta)}{2\\sigma^2}\\right]}\n",
    "\\end{align}$$"
   ]
  },
  {
   "cell_type": "markdown",
   "metadata": {},
   "source": [
    "$$\\begin{align}\n",
    "S \\simeq S_0 + \\nabla S\\lvert_{\\Theta_0} \\cdot \\left(\\Theta-\\Theta_0\\right) + \\frac{1}{2}\\left(\\Theta - \\Theta_0\\right)^t\\cdot\\nabla\\nabla S\\lvert_{\\Theta_0}\\cdot\\left(\\Theta-\\Theta_0\\right)\n",
    "\\end{align}$$\n",
    "\n",
    "$$\\begin{align}\n",
    "P(\\sigma\\lvert D, I)&\\propto \\sigma^{-(N+1)}\\exp{\\left[-\\frac{S_0}{2\\sigma^2}\\right]}\\int\\textrm{d}\\Theta \\exp{\\left[-\\frac{1}{2}\\left(\\Theta-\\Theta_0\\right)^t\\cdot\n",
    "\\frac{\\nabla\\nabla S\\lvert_{\\Theta_0}}{2\\sigma^2}\\cdot\\left(\\Theta-\\Theta_0\\right)\\right]} \\\\\n",
    "&\\propto\\sigma^{d-(N+1)}\\exp{\\left[-\\frac{S_0}{2\\sigma^2}\\right]}\n",
    "\\end{align}$$"
   ]
  },
  {
   "cell_type": "markdown",
   "metadata": {},
   "source": [
    "$$\\begin{align}\n",
    "L &= \\ln{P(\\sigma\\lvert D, I)} = \\textrm{const} + \\left(d - N - 1\\right)\\ln{\\sigma} - \\frac{S_0}{2\\sigma^2} \\\\\n",
    "\\frac{\\textrm{d}L}{\\textrm{d}\\sigma} &= (d-N-1)\\frac{1}{\\sigma} + \\frac{S_0}{\\sigma^3}\\\\\n",
    "\\frac{\\textrm{d}^2L}{\\textrm{d}^2\\sigma} &= (N+1-d)\\frac{1}{\\sigma^2} - \\frac{3 S_0}{\\sigma^4}\n",
    "\\end{align}$$"
   ]
  },
  {
   "cell_type": "markdown",
   "metadata": {},
   "source": [
    "$$\\begin{align}\n",
    "\\sigma_0^2 = \\frac{S_0}{N+1-d}\n",
    "\\end{align}$$"
   ]
  },
  {
   "cell_type": "markdown",
   "metadata": {},
   "source": [
    "$$\\begin{align}\n",
    "\\left.\\frac{\\textrm{d}^2L}{\\textrm{d}^2\\sigma}\\right\\lvert_{\\sigma_0} &= \\frac{(N+1-d)\\sigma_0^2 - 3S_0}{\\sigma_0^4}\\\\\n",
    "&= \\frac{-2(N+1-d)}{\\sigma_0^2}\n",
    "\\end{align}$$"
   ]
  },
  {
   "cell_type": "markdown",
   "metadata": {},
   "source": [
    "$$\\begin{align}\n",
    "\\sigma = \\sigma_0 \\pm \\frac{\\sigma_0}{\\sqrt{2(N+1-d)}}\n",
    "\\end{align}$$"
   ]
  }
 ],
 "metadata": {
  "kernelspec": {
   "display_name": "Python 3",
   "language": "python",
   "name": "python3"
  },
  "language_info": {
   "codemirror_mode": {
    "name": "ipython",
    "version": 3
   },
   "file_extension": ".py",
   "mimetype": "text/x-python",
   "name": "python",
   "nbconvert_exporter": "python",
   "pygments_lexer": "ipython3",
   "version": "3.7.3"
  }
 },
 "nbformat": 4,
 "nbformat_minor": 4
}
